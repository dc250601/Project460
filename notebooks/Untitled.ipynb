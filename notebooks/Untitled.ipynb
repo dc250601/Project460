{
 "cells": [
  {
   "cell_type": "code",
   "execution_count": 7,
   "id": "fe6dbce2",
   "metadata": {},
   "outputs": [],
   "source": [
    "from __future__ import print_function\n",
    "from PyAstronomy import pyasl\n",
    "import conversion as conv"
   ]
  },
  {
   "cell_type": "code",
   "execution_count": 8,
   "id": "b2ff593e",
   "metadata": {},
   "outputs": [
    {
     "name": "stdout",
     "output_type": "stream",
     "text": [
      "Coordinates of HD1: 00 05 08.83239 +67 50 24.0135\n",
      "Coordinates of HD1 [deg]:   1.204167 -1.498333\n"
     ]
    }
   ],
   "source": [
    "hd1 = \"00 05 08.83239 +67 50 24.0135\"\n",
    "print(\"Coordinates of HD1:\", hd1)\n",
    "hd2 = \"00 04 49 -1 29 54\"\n",
    "#obtain decimal representation \n",
    "ra, dec = pyasl.coordsSexaToDeg(hd2)\n",
    "print(\"Coordinates of HD1 [deg]: %10.6f %+09.6f\" % (ra, dec))"
   ]
  },
  {
   "cell_type": "code",
   "execution_count": 10,
   "id": "9e3c6a28",
   "metadata": {},
   "outputs": [
    {
     "name": "stdout",
     "output_type": "stream",
     "text": [
      "Coordinates of HD1 [deg]:   1.204167 -1.498333\n",
      "Coordinates of HD1: 00 04 49 -1 29 54\n"
     ]
    }
   ],
   "source": [
    "ra, dec = conv.convertSexaToDec(hd2)\n",
    "print(\"Coordinates of HD1 [deg]: %10.6f %+09.6f\" % (ra, dec))\n",
    "hd1 = conv.convertDecToSexa(ra,dec)\n",
    "print(\"Coordinates of HD1:\", hd2)"
   ]
  }
 ],
 "metadata": {
  "kernelspec": {
   "display_name": "Python 3 (ipykernel)",
   "language": "python",
   "name": "python3"
  },
  "language_info": {
   "codemirror_mode": {
    "name": "ipython",
    "version": 3
   },
   "file_extension": ".py",
   "mimetype": "text/x-python",
   "name": "python",
   "nbconvert_exporter": "python",
   "pygments_lexer": "ipython3",
   "version": "3.10.6"
  }
 },
 "nbformat": 4,
 "nbformat_minor": 5
}
