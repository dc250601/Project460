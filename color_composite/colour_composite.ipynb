{
 "cells": [
  {
   "cell_type": "code",
   "execution_count": 5,
   "id": "2983ca32",
   "metadata": {},
   "outputs": [],
   "source": [
    "import matplotlib.pyplot as plt\n",
    "from astropy.visualization import make_lupton_rgb\n",
    "from astropy.io import fits\n",
    "from astropy.utils.data import get_pkg_data_filename"
   ]
  },
  {
   "cell_type": "code",
   "execution_count": 6,
   "id": "87624b7f",
   "metadata": {},
   "outputs": [],
   "source": [
    "def make_rgb(g_band, r_band, i_band, Q_val=0):\n",
    "    \"\"\"\n",
    "    This function takes three fits file in g band, r band and i band\n",
    "    g_band : fits file address in g-band\n",
    "    r_band : fits file adress in r-band\n",
    "    i_band : fits file adress in i-band\n",
    "    Q_val : Scaling factor (Lupton et. al. (2004))\n",
    "    Q_val = 0 is default value, corresponds to linear scaling.\n",
    "    \"\"\"\n",
    "    g_name = get_pkg_data_filename(g_band)\n",
    "    r_name = get_pkg_data_filename(r_band)\n",
    "    i_name = get_pkg_data_filename(i_band)\n",
    "    g = fits.open(g_name)[0].data\n",
    "    r = fits.open(r_name)[0].data\n",
    "    i = fits.open(i_name)[0].data\n",
    "    rgb_default = make_lupton_rgb(i, r, g, filename=\"ngc6976-default.jpeg\")\n",
    "    plt.imshow(rgb_default, origin='lower')\n",
    "    return rgb_default"
   ]
  }
 ],
 "metadata": {
  "kernelspec": {
   "display_name": "Python 3 (ipykernel)",
   "language": "python",
   "name": "python3"
  },
  "language_info": {
   "codemirror_mode": {
    "name": "ipython",
    "version": 3
   },
   "file_extension": ".py",
   "mimetype": "text/x-python",
   "name": "python",
   "nbconvert_exporter": "python",
   "pygments_lexer": "ipython3",
   "version": "3.10.6"
  }
 },
 "nbformat": 4,
 "nbformat_minor": 5
}
